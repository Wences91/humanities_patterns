{
 "cells": [
  {
   "cell_type": "markdown",
   "id": "cf40032e-f77d-4cff-8bd9-69f8042dea99",
   "metadata": {},
   "source": [
    "# Libraries"
   ]
  },
  {
   "cell_type": "code",
   "execution_count": 28,
   "id": "c8aa22c9-7dc7-4009-97ed-b5f4e3d14d94",
   "metadata": {
    "tags": []
   },
   "outputs": [],
   "source": [
    "from rake_nltk import Rake\n",
    "import nltk\n",
    "import pandas as pd\n",
    "from unidecode import unidecode\n",
    "import igraph as ig"
   ]
  },
  {
   "cell_type": "markdown",
   "id": "36967464-9240-4aa3-ad6c-386db1f003db",
   "metadata": {},
   "source": [
    "# Keyword extraction"
   ]
  },
  {
   "cell_type": "code",
   "execution_count": null,
   "id": "2855079f-8758-4b58-8c43-c93d43f645f6",
   "metadata": {
    "tags": []
   },
   "outputs": [],
   "source": [
    "df = pd.read_csv('data/titles.tsv', sep='\\t', encoding='UTF-8')\n",
    "df"
   ]
  },
  {
   "cell_type": "markdown",
   "id": "d2ceca6f-d3f8-4d15-a10a-7b3d6f9af2de",
   "metadata": {},
   "source": [
    "Text are cleaned before keyword extraction."
   ]
  },
  {
   "cell_type": "code",
   "execution_count": 68,
   "id": "0e2bdedb-791a-4c9d-a00b-4fd45420ac40",
   "metadata": {
    "tags": []
   },
   "outputs": [],
   "source": [
    "df['TITULO'] = df.TITULO.str.lower()\n",
    "df['TITULO'] = [unidecode(x) for x in df['TITULO']]\n",
    "df['TITULO'] = df['TITULO'].str.replace('[^a-zA-Z\\s.,:]', '', regex=True)\n",
    "df['TITULO'] = df['TITULO'].str.replace('\\s+', ' ', regex=True)"
   ]
  },
  {
   "cell_type": "code",
   "execution_count": null,
   "id": "be1bfb13-f7f8-4532-afb5-0655c19eb958",
   "metadata": {
    "tags": []
   },
   "outputs": [],
   "source": [
    "nltk.download('stopwords')\n",
    "nltk.download('punkt')"
   ]
  },
  {
   "cell_type": "code",
   "execution_count": 71,
   "id": "eb5bed16-3e53-4159-a9b1-ca00920e41b5",
   "metadata": {
    "tags": []
   },
   "outputs": [],
   "source": [
    "rake_nltk_var = Rake(language='english')"
   ]
  },
  {
   "cell_type": "code",
   "execution_count": null,
   "id": "665ac2d7-9097-40f7-9ccd-c04382d7e897",
   "metadata": {
    "tags": []
   },
   "outputs": [],
   "source": [
    "df_en = df.copy()\n",
    "df_en.shape"
   ]
  },
  {
   "cell_type": "code",
   "execution_count": 73,
   "id": "36832b83-1df8-42df-8a1a-d9c5235c2b25",
   "metadata": {
    "tags": []
   },
   "outputs": [],
   "source": [
    "df_key_en = pd.DataFrame()"
   ]
  },
  {
   "cell_type": "code",
   "execution_count": null,
   "id": "04c51dc8-fbc1-4860-824f-3d4812e0074d",
   "metadata": {
    "tags": []
   },
   "outputs": [],
   "source": [
    "for title_id in df_en.index:\n",
    "    \n",
    "    rake_nltk_var.extract_keywords_from_text(df_en.TITULO[title_id])\n",
    "    keyword_extracted = pd.DataFrame(rake_nltk_var.get_ranked_phrases_with_scores())\n",
    "    \n",
    "    try:\n",
    "        df_key_en = pd.concat([df_key_en,\n",
    "                               pd.DataFrame({'document id':df_en.loc[title_id, 'CODIGO OBRA DIALNET'],\n",
    "                                             'term':keyword_extracted[1],\n",
    "                                             'score':keyword_extracted[0]\n",
    "                                            })])\n",
    "    except:\n",
    "        pass"
   ]
  },
  {
   "cell_type": "markdown",
   "id": "7e06a972-fce6-4a58-b3b1-ec81374dde63",
   "metadata": {},
   "source": [
    "English stopwords are removed."
   ]
  },
  {
   "cell_type": "code",
   "execution_count": null,
   "id": "5536eec4-d32d-486c-a106-0f42207ba9ec",
   "metadata": {},
   "outputs": [],
   "source": [
    "stop_en = pd.read_csv('data/english.txt')\n",
    "stop_en['stopwords'] = [unidecode(str(x)) for x in stop_en['stopwords']]\n",
    "stop_en.shape"
   ]
  },
  {
   "cell_type": "code",
   "execution_count": null,
   "id": "3c79b00f-f349-4bf6-8b99-e8d8490dd009",
   "metadata": {},
   "outputs": [],
   "source": [
    "df_key_en = df_key_en[~df_key_en['term'].isin(stop_en['stopwords'].tolist())]\n",
    "df_key_en"
   ]
  },
  {
   "cell_type": "code",
   "execution_count": null,
   "id": "a39a2561",
   "metadata": {},
   "outputs": [],
   "source": [
    "unique_terms_df = pd.DataFrame({\n",
    "    'term': df_key_en['term'].unique()\n",
    "}).reset_index().rename(columns={'index': 'term id'})\n",
    "\n",
    "unique_terms_df.to_csv('data/terms_all.tsv', sep='\\t', encoding='UTF-8', index=False)"
   ]
  },
  {
   "cell_type": "code",
   "execution_count": null,
   "id": "be731cf0",
   "metadata": {},
   "outputs": [],
   "source": [
    "document_term_df = pd.merge(df_key_en, unique_terms_df, on='term', how='left')\n",
    "document_term_df = document_term_df[['document id', 'term id']]\n",
    "\n",
    "document_term_df.to_csv('data/doc_terms_all.tsv', sep='\\t', encoding='UTF-8', index=False)"
   ]
  }
 ],
 "metadata": {
  "kernelspec": {
   "display_name": "Python 3 (ipykernel)",
   "language": "python",
   "name": "python3"
  },
  "language_info": {
   "codemirror_mode": {
    "name": "ipython",
    "version": 3
   },
   "file_extension": ".py",
   "mimetype": "text/x-python",
   "name": "python",
   "nbconvert_exporter": "python",
   "pygments_lexer": "ipython3",
   "version": "3.11.5"
  }
 },
 "nbformat": 4,
 "nbformat_minor": 5
}
