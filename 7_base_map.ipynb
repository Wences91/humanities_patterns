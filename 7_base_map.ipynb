{
 "cells": [
  {
   "cell_type": "markdown",
   "id": "f1de49b3",
   "metadata": {},
   "source": [
    "## Description\n",
    "This Jupyter Notebook is used to generate thematic maps based on the extracted terms from publication titles.\n"
   ]
  },
  {
   "cell_type": "markdown",
   "id": "3d77bcad",
   "metadata": {},
   "source": [
    "# Libraries"
   ]
  },
  {
   "cell_type": "code",
   "execution_count": 8,
   "id": "bfc9986a-0766-45db-a191-e1ffeadf7ce5",
   "metadata": {
    "tags": []
   },
   "outputs": [],
   "source": [
    "import pandas as pd\n",
    "import random\n",
    "import igraph as ig"
   ]
  },
  {
   "cell_type": "markdown",
   "id": "6fc1eed8",
   "metadata": {},
   "source": [
    "# Data\n",
    "- dc_terms = extracted keywords from the publications\n",
    "- df_do_terms = relationship between publications and terms"
   ]
  },
  {
   "cell_type": "code",
   "execution_count": 3,
   "id": "210439bb-ccbc-4a57-a663-4fd526f3e66c",
   "metadata": {
    "tags": []
   },
   "outputs": [],
   "source": [
    "df_terms = pd.read_csv('data/terms_all.tsv', sep='\\t')\n",
    "df_doc_terms = pd.read_csv('data/doc_terms_all.tsv', sep='\\t')"
   ]
  },
  {
   "cell_type": "markdown",
   "id": "e9fe7618",
   "metadata": {},
   "source": [
    "# Co-occurrence network"
   ]
  },
  {
   "cell_type": "markdown",
   "id": "c0d70cc6",
   "metadata": {},
   "source": [
    "From the terms and documents, a co-occurrence table of terms is generated with a binary count since they are titles and there shouldn't be many terms."
   ]
  },
  {
   "cell_type": "code",
   "execution_count": null,
   "metadata": {},
   "outputs": [],
   "source": [
    "df_co = df_doc_terms.merge(df_doc_terms, how='inner', on='document id')\n",
    "df_co = df_co[df_co['term id_x'] != df_co['term id_y']]\n",
    "# to get an undirected graph matrix\n",
    "df_co['keyword_1'] = df_co[['term id_x','term id_y']].max(axis=1)\n",
    "df_co['keyword_2'] = df_co[['term id_x','term id_y']].min(axis=1)\n",
    "df_co = df_co[['document id', 'keyword_1','keyword_2']].drop_duplicates() # for binary counting\n",
    "df_co = df_co[['keyword_1','keyword_2']].copy()\n",
    "df_co"
   ]
  },
  {
   "cell_type": "markdown",
   "id": "c584dce3",
   "metadata": {},
   "source": [
    "To calculate weighted edge weights, the number of relationships established by each term is calculated."
   ]
  },
  {
   "cell_type": "code",
   "execution_count": null,
   "id": "c60e553b",
   "metadata": {},
   "outputs": [],
   "source": [
    "df_key_freq = pd.DataFrame({'keyword':df_co.keyword_1.tolist() + df_co.keyword_2.tolist()}).value_counts().reset_index()\n",
    "df_key_freq.rename({'count':'Freq'}, axis=1, inplace=True)\n",
    "df_key_freq"
   ]
  },
  {
   "cell_type": "code",
   "execution_count": 15,
   "id": "3cb0611b",
   "metadata": {},
   "outputs": [],
   "source": [
    "df_co = df_co.groupby(['keyword_1', 'keyword_2']).size().reset_index()\n",
    "df_co.rename({0:'weight'}, axis=1, inplace=True)"
   ]
  },
  {
   "cell_type": "markdown",
   "id": "52a980c5",
   "metadata": {},
   "source": [
    "The weighted weight is calculated as 1 divided by the frequency of occurrence of two terms. The closer it is to 0, the more limited the relationship is."
   ]
  },
  {
   "cell_type": "code",
   "execution_count": null,
   "id": "3803428f",
   "metadata": {},
   "outputs": [],
   "source": [
    "df_co = df_co.merge(df_key_freq, how='inner', left_on='keyword_1', right_on='keyword')\n",
    "df_co = df_co.merge(df_key_freq, how='inner', left_on='keyword_2', right_on='keyword')\n",
    "df_co = df_co[['keyword_1','keyword_2','weight','Freq_x','Freq_y']]\n",
    "df_co['new_weight'] = 2*df_co['weight']/(df_co['Freq_x']+df_co['Freq_y'])\n",
    "df_co"
   ]
  },
  {
   "cell_type": "markdown",
   "id": "40adc97e",
   "metadata": {},
   "source": [
    "Now I include the terms to better identify them when building the network."
   ]
  },
  {
   "cell_type": "code",
   "execution_count": null,
   "id": "2172ebbb",
   "metadata": {},
   "outputs": [],
   "source": [
    "df_co_n = df_co.merge(df_terms, how='inner', left_on='keyword_1', right_on='id')\n",
    "df_co_n = df_co_n.merge(df_terms, how='inner', left_on='keyword_2', right_on='id')\n",
    "df_co_n"
   ]
  },
  {
   "cell_type": "markdown",
   "id": "dca11fa6",
   "metadata": {},
   "source": [
    "NAs values are removed."
   ]
  },
  {
   "cell_type": "code",
   "execution_count": null,
   "id": "7fc1ce0b",
   "metadata": {},
   "outputs": [],
   "source": [
    "df_co_n = df_co_n[(~df_co_n['term_x'].isna()) & (~df_co_n['term_y'].isna())]\n",
    "df_co_n"
   ]
  },
  {
   "cell_type": "markdown",
   "id": "87c6a7ac",
   "metadata": {},
   "source": [
    "Matrix is filtered to only temrs that co-occurs at least twice."
   ]
  },
  {
   "cell_type": "code",
   "execution_count": null,
   "id": "13d46ebc",
   "metadata": {},
   "outputs": [],
   "source": [
    "df_co_n = df_co_n[df_co_n.weight > 1]\n",
    "df_co_n"
   ]
  },
  {
   "cell_type": "markdown",
   "id": "69cf40e1",
   "metadata": {},
   "source": [
    "# Network and cluster analysis"
   ]
  },
  {
   "cell_type": "markdown",
   "id": "f26acd4d",
   "metadata": {},
   "source": [
    "Network creation including the weighted weights."
   ]
  },
  {
   "cell_type": "code",
   "execution_count": 20,
   "id": "f13cccb4-08ca-41fa-a3c4-f730d88cf080",
   "metadata": {
    "tags": []
   },
   "outputs": [],
   "source": [
    "g = ig.Graph.DataFrame(df_co_n[['term_x', 'term_y', 'new_weight']], directed=False, use_vids=False)"
   ]
  },
  {
   "cell_type": "markdown",
   "id": "5be78420",
   "metadata": {},
   "source": [
    "Cluster detection based on Leiden algorythm."
   ]
  },
  {
   "cell_type": "code",
   "execution_count": null,
   "id": "54c7cc2f-b397-4343-a1b5-39a9f42dc40f",
   "metadata": {
    "tags": []
   },
   "outputs": [],
   "source": [
    "cluster = g.community_leiden(#objective_function='CPM', parameter=1e-4,\n",
    "                             objective_function='modularity', resolution=20, # 15 works fine with all 2\n",
    "                             weights='new_weight',\n",
    "                             n_iterations=10)\n",
    "cluster.modularity"
   ]
  },
  {
   "cell_type": "markdown",
   "id": "35080a73",
   "metadata": {},
   "source": [
    "Clusters members are skewed."
   ]
  },
  {
   "cell_type": "code",
   "execution_count": null,
   "id": "5fe18ae9-b74d-4bf7-9fdb-52b2dc9e4cc0",
   "metadata": {
    "tags": []
   },
   "outputs": [],
   "source": [
    "clusters = pd.Series(cluster.membership)\n",
    "clusters_freq = clusters.value_counts()\n",
    "clusters_freq"
   ]
  },
  {
   "cell_type": "code",
   "execution_count": null,
   "id": "ec76719d",
   "metadata": {},
   "outputs": [],
   "source": [
    "clusters_freq[clusters_freq>4].plot.hist(bins=20)"
   ]
  },
  {
   "cell_type": "markdown",
   "id": "5375be36",
   "metadata": {},
   "source": [
    "Tranform graph vertex into a dataframe."
   ]
  },
  {
   "cell_type": "code",
   "execution_count": 65,
   "id": "fb39a609",
   "metadata": {},
   "outputs": [],
   "source": [
    "g.vs()['cluster'] = cluster.membership\n",
    "g.vs()['degree'] = g.degree()"
   ]
  },
  {
   "cell_type": "code",
   "execution_count": null,
   "id": "d68689b0",
   "metadata": {},
   "outputs": [],
   "source": [
    "node_df = pd.DataFrame({attr: g.vs[attr] for attr in g.vertex_attributes()})\n",
    "node_df.sort_values('degree', ascending=False, inplace=True)\n",
    "node_df"
   ]
  },
  {
   "cell_type": "markdown",
   "id": "8a895368",
   "metadata": {},
   "source": [
    "The edges are added based on the clusters to generate a new network of clusters."
   ]
  },
  {
   "cell_type": "code",
   "execution_count": 69,
   "id": "a007daae",
   "metadata": {},
   "outputs": [],
   "source": [
    "g_cluster = cluster.cluster_graph(combine_edges={\n",
    "        'new_weight': 'sum',\n",
    "    })\n",
    "g_cluster_df = g_cluster.get_edge_dataframe().reset_index()\n",
    "g_cluster_df.drop('edge ID', axis=1, inplace=True)"
   ]
  },
  {
   "cell_type": "markdown",
   "id": "f34358dd",
   "metadata": {},
   "source": [
    "Cluster graph is filtered to only clusters with at least five terms to removed isolated topics."
   ]
  },
  {
   "cell_type": "code",
   "execution_count": 72,
   "id": "baf9755f",
   "metadata": {},
   "outputs": [],
   "source": [
    "g_cluster_df = g_cluster_df[(g_cluster_df['source'].isin(clusters_freq[clusters_freq>4].index)) &\n",
    "            (g_cluster_df['target'].isin(clusters_freq[clusters_freq>4].index))]\n",
    "g_cluster_df"
   ]
  },
  {
   "cell_type": "code",
   "execution_count": 74,
   "id": "005008e1",
   "metadata": {},
   "outputs": [],
   "source": [
    "g_cluster_df.to_csv('data/coocurrences_cluster.txt', sep='\\t', index=False, header=False)"
   ]
  },
  {
   "cell_type": "code",
   "execution_count": 75,
   "id": "382a38ea",
   "metadata": {},
   "outputs": [],
   "source": [
    "vertex = pd.DataFrame({attr: g.vs[attr] for attr in g.vertex_attributes()})"
   ]
  },
  {
   "cell_type": "code",
   "execution_count": 82,
   "id": "1f4785f4",
   "metadata": {},
   "outputs": [],
   "source": [
    "vertex = vertex[vertex['cluster'].isin(clusters_freq[clusters_freq>4].index)]"
   ]
  },
  {
   "cell_type": "code",
   "execution_count": 83,
   "id": "778fdf35",
   "metadata": {},
   "outputs": [],
   "source": [
    "vertex.to_csv('data/vertex.txt', sep='\\t', index=False)"
   ]
  }
 ],
 "metadata": {
  "kernelspec": {
   "display_name": "Python 3 (ipykernel)",
   "language": "python",
   "name": "python3"
  },
  "language_info": {
   "codemirror_mode": {
    "name": "ipython",
    "version": 3
   },
   "file_extension": ".py",
   "mimetype": "text/x-python",
   "name": "python",
   "nbconvert_exporter": "python",
   "pygments_lexer": "ipython3",
   "version": "3.11.5"
  }
 },
 "nbformat": 4,
 "nbformat_minor": 5
}
