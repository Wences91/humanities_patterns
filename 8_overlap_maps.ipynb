{
 "cells": [
  {
   "cell_type": "markdown",
   "id": "f1de49b3",
   "metadata": {},
   "source": [
    "## Description\n",
    "This Jupyter Notebook generate the network overlapping the base map of Humanities and the publications of humanists to visualize the thematic differences between archetypes."
   ]
  },
  {
   "cell_type": "code",
   "execution_count": 99,
   "id": "bfc9986a-0766-45db-a191-e1ffeadf7ce5",
   "metadata": {
    "tags": []
   },
   "outputs": [],
   "source": [
    "import pandas as pd\n",
    "import random"
   ]
  },
  {
   "cell_type": "markdown",
   "id": "6fc1eed8",
   "metadata": {},
   "source": [
    "# Data\n",
    "- df_docs = with job titles\n",
    "- dc_terms = with extracted keywords from the documents\n",
    "- df_do_terms = with the relationship between documents and terms"
   ]
  },
  {
   "cell_type": "code",
   "execution_count": 100,
   "id": "210439bb-ccbc-4a57-a663-4fd526f3e66c",
   "metadata": {
    "tags": []
   },
   "outputs": [],
   "source": [
    "df_docs = pd.read_csv('data/titles.tsv', sep='\\t', quotechar='\"', escapechar='\\\\')\n",
    "df_terms = pd.read_csv('data/terms_all.tsv', sep='\\t')\n",
    "df_doc_terms = pd.read_csv('data/doc_terms_all.tsv', sep='\\t')"
   ]
  },
  {
   "cell_type": "code",
   "execution_count": 105,
   "id": "693f7188",
   "metadata": {},
   "outputs": [],
   "source": [
    "df_doc_terms = df_doc_terms.merge(df_terms, left_on='term id', right_on='id')\n",
    "df_doc_terms = df_doc_terms.merge(df_docs, left_on='document id', right_on='CODIGO OBRA DIALNET')\n",
    "df_doc_terms = df_doc_terms[['CODIGO OBRA DIALNET', 'term id', 'term', 'TITULO']]\n",
    "df_doc_terms"
   ]
  },
  {
   "cell_type": "code",
   "execution_count": 106,
   "id": "a585f1a4",
   "metadata": {},
   "outputs": [],
   "source": [
    "df_key = df_doc_terms[['CODIGO OBRA DIALNET', 'term']].drop_duplicates()\n",
    "df_key"
   ]
  },
  {
   "cell_type": "code",
   "execution_count": null,
   "id": "c7daa659",
   "metadata": {},
   "outputs": [],
   "source": [
    "df_aut = pd.read_csv('data/authors_publications_full_lang.tsv', sep='\\t')\n",
    "df_aut = df_aut[df_aut['DB']=='DIALNET']\n",
    "df_aut = df_aut[['CODIGO AUTOR DIALNET', 'CODIGO OBRA DIALNET']].drop_duplicates()\n",
    "df_aut"
   ]
  },
  {
   "cell_type": "code",
   "execution_count": null,
   "id": "c46737eb",
   "metadata": {},
   "outputs": [],
   "source": [
    "df_aut_key_full = df_aut.merge(df_key, left_on='CODIGO OBRA DIALNET', right_on='CODIGO OBRA DIALNET')\n",
    "df_aut_key_full"
   ]
  },
  {
   "cell_type": "markdown",
   "id": "45217a77",
   "metadata": {},
   "source": [
    "# Archetype overlay"
   ]
  },
  {
   "cell_type": "code",
   "execution_count": 109,
   "id": "b1416ea1",
   "metadata": {},
   "outputs": [],
   "source": [
    "df_arc = pd.read_csv('data/archetypes/philosophy.tsv', sep='\\t')\n",
    "df_arc"
   ]
  },
  {
   "cell_type": "code",
   "execution_count": 110,
   "id": "a626d07e",
   "metadata": {},
   "outputs": [],
   "source": [
    "df_arc = df_arc.merge(df_aut, how='inner', left_on='dialnet_id', right_on='CODIGO AUTOR DIALNET')\n",
    "df_arc = df_arc[['dialnet_id', 'archetype', 'CODIGO OBRA DIALNET']]\n",
    "df_arc"
   ]
  },
  {
   "cell_type": "code",
   "execution_count": 111,
   "id": "a29d1fb2",
   "metadata": {},
   "outputs": [],
   "source": [
    "df_aut_key = df_arc.merge(df_key, how='inner', on='CODIGO OBRA DIALNET')\n",
    "df_aut_key = df_aut_key[['archetype', 'dialnet_id', 'term', 'CODIGO OBRA DIALNET']].drop_duplicates() #binary\n",
    "df_aut_key_id = df_aut_key.copy()\n",
    "df_aut_key.shape"
   ]
  },
  {
   "cell_type": "code",
   "execution_count": 112,
   "id": "d6671885",
   "metadata": {},
   "outputs": [],
   "source": [
    "nodes = pd.read_csv('data/networks/arc_vertex.txt', sep='\\t')\n",
    "nodes.rename({'name':'term'}, axis=1, inplace=True)\n",
    "nodes"
   ]
  },
  {
   "cell_type": "code",
   "execution_count": 114,
   "id": "43d2b2f9",
   "metadata": {},
   "outputs": [],
   "source": [
    "net_map = pd.read_csv('data/networks/arc_map.txt', sep='\\t')\n",
    "net_map"
   ]
  },
  {
   "cell_type": "code",
   "execution_count": 115,
   "id": "843a5e7c",
   "metadata": {},
   "outputs": [],
   "source": [
    "nodes_total = nodes.merge(df_aut_key_full, how='left', on='term')\n",
    "nodes_total"
   ]
  },
  {
   "cell_type": "code",
   "execution_count": 118,
   "id": "b3c62274",
   "metadata": {},
   "outputs": [],
   "source": [
    "nodes_total = nodes_total[['cluster', 'CODIGO OBRA DIALNET']].drop_duplicates().dropna()\n",
    "nodes_total = nodes_total.groupby('cluster').size().reset_index().rename({0:'Outputs'}, axis=1)\n",
    "nodes_total"
   ]
  },
  {
   "cell_type": "code",
   "execution_count": 119,
   "id": "dad97611",
   "metadata": {},
   "outputs": [],
   "source": [
    "for n in df_aut_key.archetype.drop_duplicates():\n",
    "    nodes_c = nodes.merge(df_aut_key[df_aut_key.archetype==n], how='left', on='term')\n",
    "    nodes_c = nodes_c[['cluster', 'CODIGO OBRA DIALNET']].drop_duplicates().dropna()\n",
    "    total_arc = len(nodes_c['CODIGO OBRA DIALNET'].drop_duplicates())\n",
    "    nodes_c = nodes_c.groupby('cluster').size().reset_index().rename({0:'Freq'}, axis=1)\n",
    "\n",
    "    nodes = nodes.merge(nodes_c, how='left', on='cluster')\n",
    "    nodes['Freq'].fillna(0, inplace=True)\n",
    "    nodes['Freq'] = 100*nodes['Freq']/total_arc\n",
    "    nodes.rename({'Freq':'weight<arch'+str(n)+'>'}, axis=1, inplace=True)\n",
    "nodes"
   ]
  },
  {
   "cell_type": "code",
   "execution_count": 120,
   "id": "d55beb04",
   "metadata": {},
   "outputs": [],
   "source": [
    "nodes = nodes.drop(['term', 'degree'], axis=1).drop_duplicates()\n",
    "nodes = nodes.merge(nodes_total, how='left', on='cluster')\n",
    "nodes.rename({'cluster':'id'}, axis=1, inplace=True)\n",
    "nodes"
   ]
  },
  {
   "cell_type": "code",
   "execution_count": 121,
   "id": "d950502c",
   "metadata": {},
   "outputs": [],
   "source": [
    "net_map_arc = net_map.merge(nodes, how='left', on='id')\n",
    "net_map_arc.rename({'Outputs':'weight<Outputs>'}, axis=1, inplace=True)\n",
    "net_map_arc.to_csv('data/networks/arc_map_philosophy.txt', sep='\\t', index=False)"
   ]
  }
 ],
 "metadata": {
  "kernelspec": {
   "display_name": "Python 3 (ipykernel)",
   "language": "python",
   "name": "python3"
  },
  "language_info": {
   "codemirror_mode": {
    "name": "ipython",
    "version": 3
   },
   "file_extension": ".py",
   "mimetype": "text/x-python",
   "name": "python",
   "nbconvert_exporter": "python",
   "pygments_lexer": "ipython3",
   "version": "3.11.5"
  }
 },
 "nbformat": 4,
 "nbformat_minor": 5
}
